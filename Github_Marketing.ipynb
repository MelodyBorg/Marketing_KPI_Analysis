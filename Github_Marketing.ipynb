{
 "cells": [
  {
   "cell_type": "markdown",
   "id": "ab0c8abf",
   "metadata": {},
   "source": [
    "# 1. Data Preprocessing and Cleaning"
   ]
  },
  {
   "cell_type": "code",
   "execution_count": 2,
   "id": "ffc903bf",
   "metadata": {},
   "outputs": [],
   "source": [
    "# Import all the required modules\n",
    "import pandas as pd\n",
    "pd.options.display.precision = 2\n",
    "import matplotlib.pyplot as plt\n",
    "import seaborn as sns \n",
    "import missingno as msno\n",
    "import numpy as np"
   ]
  },
  {
   "cell_type": "code",
   "execution_count": 3,
   "id": "57f0c35a",
   "metadata": {},
   "outputs": [],
   "source": [
    "df_Marketing = pd.read_csv(\"Marketing.csv\")"
   ]
  },
  {
   "cell_type": "code",
   "execution_count": 4,
   "id": "bdade68d",
   "metadata": {},
   "outputs": [
    {
     "data": {
      "text/html": [
       "<div>\n",
       "<style scoped>\n",
       "    .dataframe tbody tr th:only-of-type {\n",
       "        vertical-align: middle;\n",
       "    }\n",
       "\n",
       "    .dataframe tbody tr th {\n",
       "        vertical-align: top;\n",
       "    }\n",
       "\n",
       "    .dataframe thead th {\n",
       "        text-align: right;\n",
       "    }\n",
       "</style>\n",
       "<table border=\"1\" class=\"dataframe\">\n",
       "  <thead>\n",
       "    <tr style=\"text-align: right;\">\n",
       "      <th></th>\n",
       "      <th>id</th>\n",
       "      <th>c_date</th>\n",
       "      <th>campaign_name</th>\n",
       "      <th>category</th>\n",
       "      <th>campaign_id</th>\n",
       "      <th>impressions</th>\n",
       "      <th>mark_spent</th>\n",
       "      <th>clicks</th>\n",
       "      <th>leads</th>\n",
       "      <th>orders</th>\n",
       "      <th>revenue</th>\n",
       "    </tr>\n",
       "  </thead>\n",
       "  <tbody>\n",
       "    <tr>\n",
       "      <th>0</th>\n",
       "      <td>1</td>\n",
       "      <td>2021-02-01</td>\n",
       "      <td>facebook_tier1</td>\n",
       "      <td>social</td>\n",
       "      <td>349043</td>\n",
       "      <td>148263</td>\n",
       "      <td>7307.37</td>\n",
       "      <td>1210</td>\n",
       "      <td>13</td>\n",
       "      <td>1</td>\n",
       "      <td>4981.0</td>\n",
       "    </tr>\n",
       "    <tr>\n",
       "      <th>1</th>\n",
       "      <td>2</td>\n",
       "      <td>2021-02-01</td>\n",
       "      <td>facebOOK_tier2</td>\n",
       "      <td>social</td>\n",
       "      <td>348934</td>\n",
       "      <td>220688</td>\n",
       "      <td>16300.20</td>\n",
       "      <td>1640</td>\n",
       "      <td>48</td>\n",
       "      <td>3</td>\n",
       "      <td>14962.0</td>\n",
       "    </tr>\n",
       "    <tr>\n",
       "      <th>2</th>\n",
       "      <td>3</td>\n",
       "      <td>2021-02-01</td>\n",
       "      <td>google_hot</td>\n",
       "      <td>search</td>\n",
       "      <td>89459845</td>\n",
       "      <td>22850</td>\n",
       "      <td>5221.60</td>\n",
       "      <td>457</td>\n",
       "      <td>9</td>\n",
       "      <td>1</td>\n",
       "      <td>7981.0</td>\n",
       "    </tr>\n",
       "    <tr>\n",
       "      <th>3</th>\n",
       "      <td>4</td>\n",
       "      <td>2021-02-01</td>\n",
       "      <td>google_wide</td>\n",
       "      <td>search</td>\n",
       "      <td>127823</td>\n",
       "      <td>147038</td>\n",
       "      <td>6037.00</td>\n",
       "      <td>1196</td>\n",
       "      <td>24</td>\n",
       "      <td>1</td>\n",
       "      <td>2114.0</td>\n",
       "    </tr>\n",
       "    <tr>\n",
       "      <th>4</th>\n",
       "      <td>5</td>\n",
       "      <td>2021-02-01</td>\n",
       "      <td>youtube_blogger</td>\n",
       "      <td>influencer</td>\n",
       "      <td>10934</td>\n",
       "      <td>225800</td>\n",
       "      <td>29962.20</td>\n",
       "      <td>2258</td>\n",
       "      <td>49</td>\n",
       "      <td>10</td>\n",
       "      <td>84490.0</td>\n",
       "    </tr>\n",
       "  </tbody>\n",
       "</table>\n",
       "</div>"
      ],
      "text/plain": [
       "   id      c_date    campaign_name    category  campaign_id  impressions  \\\n",
       "0   1  2021-02-01   facebook_tier1      social       349043       148263   \n",
       "1   2  2021-02-01   facebOOK_tier2      social       348934       220688   \n",
       "2   3  2021-02-01       google_hot      search     89459845        22850   \n",
       "3   4  2021-02-01      google_wide      search       127823       147038   \n",
       "4   5  2021-02-01  youtube_blogger  influencer        10934       225800   \n",
       "\n",
       "   mark_spent  clicks  leads  orders  revenue  \n",
       "0     7307.37    1210     13       1   4981.0  \n",
       "1    16300.20    1640     48       3  14962.0  \n",
       "2     5221.60     457      9       1   7981.0  \n",
       "3     6037.00    1196     24       1   2114.0  \n",
       "4    29962.20    2258     49      10  84490.0  "
      ]
     },
     "execution_count": 4,
     "metadata": {},
     "output_type": "execute_result"
    }
   ],
   "source": [
    "df_Marketing.head()"
   ]
  },
  {
   "cell_type": "code",
   "execution_count": 5,
   "id": "aa261f48",
   "metadata": {},
   "outputs": [
    {
     "data": {
      "text/html": [
       "<div>\n",
       "<style scoped>\n",
       "    .dataframe tbody tr th:only-of-type {\n",
       "        vertical-align: middle;\n",
       "    }\n",
       "\n",
       "    .dataframe tbody tr th {\n",
       "        vertical-align: top;\n",
       "    }\n",
       "\n",
       "    .dataframe thead th {\n",
       "        text-align: right;\n",
       "    }\n",
       "</style>\n",
       "<table border=\"1\" class=\"dataframe\">\n",
       "  <thead>\n",
       "    <tr style=\"text-align: right;\">\n",
       "      <th></th>\n",
       "      <th>id</th>\n",
       "      <th>campaign_id</th>\n",
       "      <th>impressions</th>\n",
       "      <th>mark_spent</th>\n",
       "      <th>clicks</th>\n",
       "      <th>leads</th>\n",
       "      <th>orders</th>\n",
       "      <th>revenue</th>\n",
       "    </tr>\n",
       "  </thead>\n",
       "  <tbody>\n",
       "    <tr>\n",
       "      <th>count</th>\n",
       "      <td>308.00</td>\n",
       "      <td>3.08e+02</td>\n",
       "      <td>3.08e+02</td>\n",
       "      <td>308.00</td>\n",
       "      <td>308.00</td>\n",
       "      <td>308.00</td>\n",
       "      <td>308.00</td>\n",
       "      <td>3.08e+02</td>\n",
       "    </tr>\n",
       "    <tr>\n",
       "      <th>mean</th>\n",
       "      <td>154.50</td>\n",
       "      <td>9.61e+06</td>\n",
       "      <td>5.12e+06</td>\n",
       "      <td>99321.04</td>\n",
       "      <td>9740.00</td>\n",
       "      <td>212.92</td>\n",
       "      <td>26.11</td>\n",
       "      <td>1.39e+05</td>\n",
       "    </tr>\n",
       "    <tr>\n",
       "      <th>std</th>\n",
       "      <td>89.06</td>\n",
       "      <td>2.54e+07</td>\n",
       "      <td>2.63e+07</td>\n",
       "      <td>144008.01</td>\n",
       "      <td>12157.48</td>\n",
       "      <td>300.46</td>\n",
       "      <td>42.74</td>\n",
       "      <td>2.76e+05</td>\n",
       "    </tr>\n",
       "    <tr>\n",
       "      <th>min</th>\n",
       "      <td>1.00</td>\n",
       "      <td>1.09e+04</td>\n",
       "      <td>6.67e+02</td>\n",
       "      <td>169.75</td>\n",
       "      <td>20.00</td>\n",
       "      <td>0.00</td>\n",
       "      <td>0.00</td>\n",
       "      <td>0.00e+00</td>\n",
       "    </tr>\n",
       "    <tr>\n",
       "      <th>25%</th>\n",
       "      <td>77.75</td>\n",
       "      <td>1.28e+05</td>\n",
       "      <td>1.48e+05</td>\n",
       "      <td>9465.19</td>\n",
       "      <td>1347.25</td>\n",
       "      <td>20.75</td>\n",
       "      <td>3.00</td>\n",
       "      <td>8.58e+03</td>\n",
       "    </tr>\n",
       "    <tr>\n",
       "      <th>50%</th>\n",
       "      <td>154.50</td>\n",
       "      <td>3.75e+05</td>\n",
       "      <td>6.03e+05</td>\n",
       "      <td>36765.15</td>\n",
       "      <td>4349.50</td>\n",
       "      <td>84.00</td>\n",
       "      <td>9.00</td>\n",
       "      <td>3.89e+04</td>\n",
       "    </tr>\n",
       "    <tr>\n",
       "      <th>75%</th>\n",
       "      <td>231.25</td>\n",
       "      <td>4.39e+06</td>\n",
       "      <td>3.25e+06</td>\n",
       "      <td>129372.25</td>\n",
       "      <td>13499.25</td>\n",
       "      <td>270.50</td>\n",
       "      <td>29.25</td>\n",
       "      <td>1.37e+05</td>\n",
       "    </tr>\n",
       "    <tr>\n",
       "      <th>max</th>\n",
       "      <td>308.00</td>\n",
       "      <td>8.95e+07</td>\n",
       "      <td>4.20e+08</td>\n",
       "      <td>880357.00</td>\n",
       "      <td>61195.00</td>\n",
       "      <td>1678.00</td>\n",
       "      <td>369.00</td>\n",
       "      <td>2.81e+06</td>\n",
       "    </tr>\n",
       "  </tbody>\n",
       "</table>\n",
       "</div>"
      ],
      "text/plain": [
       "           id  campaign_id  impressions  mark_spent    clicks    leads  \\\n",
       "count  308.00     3.08e+02     3.08e+02      308.00    308.00   308.00   \n",
       "mean   154.50     9.61e+06     5.12e+06    99321.04   9740.00   212.92   \n",
       "std     89.06     2.54e+07     2.63e+07   144008.01  12157.48   300.46   \n",
       "min      1.00     1.09e+04     6.67e+02      169.75     20.00     0.00   \n",
       "25%     77.75     1.28e+05     1.48e+05     9465.19   1347.25    20.75   \n",
       "50%    154.50     3.75e+05     6.03e+05    36765.15   4349.50    84.00   \n",
       "75%    231.25     4.39e+06     3.25e+06   129372.25  13499.25   270.50   \n",
       "max    308.00     8.95e+07     4.20e+08   880357.00  61195.00  1678.00   \n",
       "\n",
       "       orders   revenue  \n",
       "count  308.00  3.08e+02  \n",
       "mean    26.11  1.39e+05  \n",
       "std     42.74  2.76e+05  \n",
       "min      0.00  0.00e+00  \n",
       "25%      3.00  8.58e+03  \n",
       "50%      9.00  3.89e+04  \n",
       "75%     29.25  1.37e+05  \n",
       "max    369.00  2.81e+06  "
      ]
     },
     "execution_count": 5,
     "metadata": {},
     "output_type": "execute_result"
    }
   ],
   "source": [
    "df_Marketing.describe()"
   ]
  },
  {
   "cell_type": "code",
   "execution_count": 6,
   "id": "c9c50abb",
   "metadata": {},
   "outputs": [
    {
     "name": "stdout",
     "output_type": "stream",
     "text": [
      "<class 'pandas.core.frame.DataFrame'>\n",
      "RangeIndex: 308 entries, 0 to 307\n",
      "Data columns (total 11 columns):\n",
      " #   Column         Non-Null Count  Dtype  \n",
      "---  ------         --------------  -----  \n",
      " 0   id             308 non-null    int64  \n",
      " 1   c_date         308 non-null    object \n",
      " 2   campaign_name  308 non-null    object \n",
      " 3   category       308 non-null    object \n",
      " 4   campaign_id    308 non-null    int64  \n",
      " 5   impressions    308 non-null    int64  \n",
      " 6   mark_spent     308 non-null    float64\n",
      " 7   clicks         308 non-null    int64  \n",
      " 8   leads          308 non-null    int64  \n",
      " 9   orders         308 non-null    int64  \n",
      " 10  revenue        308 non-null    float64\n",
      "dtypes: float64(2), int64(6), object(3)\n",
      "memory usage: 26.6+ KB\n"
     ]
    }
   ],
   "source": [
    "df_Marketing.info()"
   ]
  },
  {
   "cell_type": "code",
   "execution_count": 7,
   "id": "63742433",
   "metadata": {},
   "outputs": [
    {
     "data": {
      "text/plain": [
       "id               0\n",
       "c_date           0\n",
       "campaign_name    0\n",
       "category         0\n",
       "campaign_id      0\n",
       "impressions      0\n",
       "mark_spent       0\n",
       "clicks           0\n",
       "leads            0\n",
       "orders           0\n",
       "revenue          0\n",
       "dtype: int64"
      ]
     },
     "execution_count": 7,
     "metadata": {},
     "output_type": "execute_result"
    }
   ],
   "source": [
    "df_Marketing.isna().sum()"
   ]
  },
  {
   "cell_type": "code",
   "execution_count": 8,
   "id": "ec12542e",
   "metadata": {},
   "outputs": [],
   "source": [
    "df_Marketing[\"c_date\"] = pd.to_datetime(df_Marketing[\"c_date\"])"
   ]
  },
  {
   "cell_type": "code",
   "execution_count": 9,
   "id": "f258b834",
   "metadata": {},
   "outputs": [],
   "source": [
    "#Create relevant columns\n",
    "df_Marketing['CTR'] = df_Marketing['clicks'] / df_Marketing['impressions']\n",
    "df_Marketing['CPL'] = df_Marketing['mark_spent'] / df_Marketing['leads']\n",
    "df_Marketing['CPA'] = df_Marketing['mark_spent'] / df_Marketing['orders']\n",
    "df_Marketing['ROAS'] = df_Marketing['revenue'] / df_Marketing['mark_spent']"
   ]
  },
  {
   "cell_type": "code",
   "execution_count": 10,
   "id": "58fb3c78",
   "metadata": {},
   "outputs": [],
   "source": [
    "df_Marketing.to_csv('Marketing_KPI_Enhanced.csv', index=False)"
   ]
  },
  {
   "cell_type": "code",
   "execution_count": 13,
   "id": "1e2ee07f",
   "metadata": {},
   "outputs": [
    {
     "data": {
      "text/plain": [
       "499.2032908027645"
      ]
     },
     "execution_count": 13,
     "metadata": {},
     "output_type": "execute_result"
    }
   ],
   "source": [
    "df_Marketing['CPL'].median()   # median CPL"
   ]
  }
 ],
 "metadata": {
  "kernelspec": {
   "display_name": "base",
   "language": "python",
   "name": "python3"
  },
  "language_info": {
   "codemirror_mode": {
    "name": "ipython",
    "version": 3
   },
   "file_extension": ".py",
   "mimetype": "text/x-python",
   "name": "python",
   "nbconvert_exporter": "python",
   "pygments_lexer": "ipython3",
   "version": "3.13.5"
  }
 },
 "nbformat": 4,
 "nbformat_minor": 5
}
